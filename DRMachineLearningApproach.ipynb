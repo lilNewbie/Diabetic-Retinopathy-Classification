{
 "cells": [
  {
   "cell_type": "code",
   "execution_count": 1,
   "id": "ae5e93c7",
   "metadata": {
    "_cell_guid": "b1076dfc-b9ad-4769-8c92-a6c4dae69d19",
    "_uuid": "8f2839f25d086af736a60e9eeb907d3b93b6e0e5",
    "execution": {
     "iopub.execute_input": "2023-11-26T16:29:07.025319Z",
     "iopub.status.busy": "2023-11-26T16:29:07.024849Z",
     "iopub.status.idle": "2023-11-26T16:29:22.295013Z",
     "shell.execute_reply": "2023-11-26T16:29:22.293755Z"
    },
    "papermill": {
     "duration": 15.289844,
     "end_time": "2023-11-26T16:29:22.298209",
     "exception": false,
     "start_time": "2023-11-26T16:29:07.008365",
     "status": "completed"
    },
    "tags": []
   },
   "outputs": [],
   "source": [
    "import numpy as np\n",
    "import pandas as pd\n",
    "import seaborn as sns\n",
    "import os\n",
    "import random\n",
    "import matplotlib.pyplot as plt\n",
    "from sklearn.model_selection import train_test_split, cross_validate, GridSearchCV, StratifiedKFold\n",
    "from sklearn.ensemble import RandomForestClassifier, AdaBoostClassifier\n",
    "from sklearn.tree import DecisionTreeClassifier\n",
    "from sklearn.linear_model import LogisticRegression\n",
    "from sklearn.neighbors import KNeighborsClassifier\n",
    "from catboost import CatBoostClassifier\n",
    "from statsmodels.stats.outliers_influence import variance_inflation_factor\n",
    "from statsmodels.imputation.mice import MICEData\n",
    "from sklearn.preprocessing import MinMaxScaler, StandardScaler, LabelEncoder\n",
    "from sklearn.decomposition import PCA\n",
    "from sklearn.svm import SVC\n",
    "from sklearn.naive_bayes import GaussianNB, CategoricalNB\n",
    "from sklearn.metrics import precision_score\n",
    "from xgboost import XGBClassifier\n",
    "import cv2\n",
    "from keras.applications import VGG16"
   ]
  },
  {
   "cell_type": "code",
   "execution_count": 2,
   "id": "76b54805",
   "metadata": {
    "execution": {
     "iopub.execute_input": "2023-11-26T16:29:22.328076Z",
     "iopub.status.busy": "2023-11-26T16:29:22.327183Z",
     "iopub.status.idle": "2023-11-26T16:29:22.332839Z",
     "shell.execute_reply": "2023-11-26T16:29:22.331546Z"
    },
    "papermill": {
     "duration": 0.023641,
     "end_time": "2023-11-26T16:29:22.335323",
     "exception": false,
     "start_time": "2023-11-26T16:29:22.311682",
     "status": "completed"
    },
    "tags": []
   },
   "outputs": [],
   "source": [
    "IMG_SIZE = 224"
   ]
  },
  {
   "cell_type": "code",
   "execution_count": 3,
   "id": "cd3ec3f1",
   "metadata": {
    "execution": {
     "iopub.execute_input": "2023-11-26T16:29:22.364148Z",
     "iopub.status.busy": "2023-11-26T16:29:22.363658Z",
     "iopub.status.idle": "2023-11-26T16:29:22.376417Z",
     "shell.execute_reply": "2023-11-26T16:29:22.375346Z"
    },
    "papermill": {
     "duration": 0.030357,
     "end_time": "2023-11-26T16:29:22.379013",
     "exception": false,
     "start_time": "2023-11-26T16:29:22.348656",
     "status": "completed"
    },
    "tags": []
   },
   "outputs": [],
   "source": [
    "root_path = '/kaggle/working/Data'\n",
    "if os.path.exists(root_path):\n",
    "    shutil.rmtree(root_path)\n",
    "\n",
    "train_dir = os.makedirs(os.path.join(root_path, 'training'))\n",
    "val_dir = os.makedirs(os.path.join(root_path, 'validation'))\n",
    "class_names = ['0','1','2','3','4']\n",
    "\n",
    "train_healthy = os.makedirs(os.path.join(root_path, 'training/0'))\n",
    "train_mildDR = os.makedirs(os.path.join(root_path, 'training/1'))\n",
    "train_moderateDR = os.makedirs(os.path.join(root_path, 'training/2'))\n",
    "train_proliferateDR = os.makedirs(os.path.join(root_path, 'training/3'))\n",
    "train_severeDR = os.makedirs(os.path.join(root_path, 'training/4'))\n",
    "\n",
    "val_healthy = os.makedirs(os.path.join(root_path, 'validation/0'))\n",
    "val_mildDR = os.makedirs(os.path.join(root_path, 'validation/1'))\n",
    "valval_moderateDR = os.makedirs(os.path.join(root_path, 'validation/2'))\n",
    "val_proliferateDR = os.makedirs(os.path.join(root_path, 'validation/3'))\n",
    "val_severeDR = os.makedirs(os.path.join(root_path, 'validation/4'))"
   ]
  },
  {
   "cell_type": "code",
   "execution_count": 4,
   "id": "e1bead75",
   "metadata": {
    "execution": {
     "iopub.execute_input": "2023-11-26T16:29:22.407832Z",
     "iopub.status.busy": "2023-11-26T16:29:22.407364Z",
     "iopub.status.idle": "2023-11-26T16:29:22.412603Z",
     "shell.execute_reply": "2023-11-26T16:29:22.411378Z"
    },
    "papermill": {
     "duration": 0.02282,
     "end_time": "2023-11-26T16:29:22.415003",
     "exception": false,
     "start_time": "2023-11-26T16:29:22.392183",
     "status": "completed"
    },
    "tags": []
   },
   "outputs": [],
   "source": [
    "source_path = '/kaggle/input/diabetic-retinopathy-resized-arranged'"
   ]
  },
  {
   "cell_type": "code",
   "execution_count": 5,
   "id": "4f2ce2e9",
   "metadata": {
    "execution": {
     "iopub.execute_input": "2023-11-26T16:29:22.443346Z",
     "iopub.status.busy": "2023-11-26T16:29:22.442756Z",
     "iopub.status.idle": "2023-11-26T16:29:23.517075Z",
     "shell.execute_reply": "2023-11-26T16:29:23.515565Z"
    },
    "papermill": {
     "duration": 1.091514,
     "end_time": "2023-11-26T16:29:23.519685",
     "exception": false,
     "start_time": "2023-11-26T16:29:22.428171",
     "status": "completed"
    },
    "tags": []
   },
   "outputs": [
    {
     "name": "stdout",
     "output_type": "stream",
     "text": [
      "There are 25810 images of 0\n",
      "There are 2443 images of 1\n",
      "There are 5292 images of 2\n",
      "There are 873 images of 3\n",
      "There are 708 images of 4\n"
     ]
    }
   ],
   "source": [
    "source_path_healthy = os.path.join(source_path, class_names[0])\n",
    "source_path_mildDR = os.path.join(source_path, class_names[1])\n",
    "source_path_moderateDR = os.path.join(source_path, class_names[2])\n",
    "source_path_proliferateDR = os.path.join(source_path, class_names[3])\n",
    "source_path_severeDR = os.path.join(source_path, class_names[4])\n",
    "\n",
    "DR_class_count = [source_path_healthy, source_path_mildDR, source_path_moderateDR, source_path_proliferateDR, source_path_severeDR]\n",
    "\n",
    "# os.listdir returns a list containing all files under the given path\n",
    "for i in range(len(DR_class_count)):\n",
    "    print(f\"There are {len(os.listdir(DR_class_count[i]+'/'))} images of \"+str(i))"
   ]
  },
  {
   "cell_type": "code",
   "execution_count": 6,
   "id": "945ccc79",
   "metadata": {
    "execution": {
     "iopub.execute_input": "2023-11-26T16:29:23.549401Z",
     "iopub.status.busy": "2023-11-26T16:29:23.548951Z",
     "iopub.status.idle": "2023-11-26T16:29:23.556479Z",
     "shell.execute_reply": "2023-11-26T16:29:23.555125Z"
    },
    "papermill": {
     "duration": 0.025993,
     "end_time": "2023-11-26T16:29:23.559246",
     "exception": false,
     "start_time": "2023-11-26T16:29:23.533253",
     "status": "completed"
    },
    "tags": []
   },
   "outputs": [],
   "source": [
    "def preprocessing_fn(img):\n",
    "    image = cv2.cvtColor(img, cv2.COLOR_BGR2RGB)\n",
    "    image = cv2.addWeighted(image,3.1, cv2.GaussianBlur(image, (15,15) ,IMG_SIZE/10),-3.5 ,128)\n",
    "    adjusted = cv2.convertScaleAbs(image, alpha=1.8, beta=1.5)\n",
    "    adjusted = cv2.resize(adjusted, (IMG_SIZE, IMG_SIZE))\n",
    "    return adjusted.astype('float64')"
   ]
  },
  {
   "cell_type": "code",
   "execution_count": 7,
   "id": "6a692593",
   "metadata": {
    "execution": {
     "iopub.execute_input": "2023-11-26T16:29:23.588737Z",
     "iopub.status.busy": "2023-11-26T16:29:23.587984Z",
     "iopub.status.idle": "2023-11-26T16:30:44.592927Z",
     "shell.execute_reply": "2023-11-26T16:30:44.591593Z"
    },
    "papermill": {
     "duration": 81.024405,
     "end_time": "2023-11-26T16:30:44.597116",
     "exception": false,
     "start_time": "2023-11-26T16:29:23.572711",
     "status": "completed"
    },
    "tags": []
   },
   "outputs": [],
   "source": [
    "def split_data(SOURCE_DIR, TRAINING_DIR, VALIDATION_DIR, SPLIT_SIZE):\n",
    "    all_files = []\n",
    "    count = 1000\n",
    "    for fn in os.listdir(SOURCE_DIR):\n",
    "        count-=1\n",
    "        file_path = SOURCE_DIR + fn\n",
    "        if os.path.getsize(file_path)>0:\n",
    "            all_files.append(fn)\n",
    "        else:\n",
    "            print(\"\\n\" + fn + \" is zero length, so ignoring.\")\n",
    "        if count<=0:\n",
    "            break\n",
    "    n_files = len(all_files)\n",
    "    split_point = int(n_files * SPLIT_SIZE)\n",
    "    shuffled = random.sample(all_files, n_files)\n",
    "\n",
    "    train_set = shuffled[:split_point]\n",
    "    test_set = shuffled[split_point:]\n",
    "\n",
    "    for file_name in train_set:\n",
    "        #shutil.copyfile(SOURCE_DIR + file_name, TRAINING_DIR + file_name)\n",
    "        img = cv2.imread(SOURCE_DIR + file_name)\n",
    "        img = cv2.resize(img, (IMG_SIZE,IMG_SIZE))\n",
    "        img = preprocessing_fn(img)\n",
    "        cv2.imwrite(TRAINING_DIR + file_name, img)\n",
    "\n",
    "    for file_name in test_set:\n",
    "        #shutil.copyfile(SOURCE_DIR + file_name, VALIDATION_DIR + file_name)\n",
    "        img = cv2.imread(SOURCE_DIR + file_name)\n",
    "        img = cv2.resize(img, (IMG_SIZE,IMG_SIZE))\n",
    "        img = preprocessing_fn(img)\n",
    "        cv2.imwrite(VALIDATION_DIR + file_name, img)\n",
    "\n",
    "HEALTHY_SOURCE_DIR = \"/kaggle/input/diabetic-retinopathy-resized-arranged/0/\"\n",
    "TRAINING_HEALTHY_DIR = \"/kaggle/working/Data/training/0/\"\n",
    "VALIDATION_HEALTHY_DIR = \"/kaggle/working/Data/validation/0/\"\n",
    "\n",
    "MILDDR_SOURCE_DIR = \"/kaggle/input/diabetic-retinopathy-resized-arranged/1/\"\n",
    "TRAINING_MILDDR_DIR = \"/kaggle/working/Data/training/1/\"\n",
    "VALIDATION_MILDDR_DIR = \"/kaggle/working/Data/validation/1/\"\n",
    "\n",
    "MODERATEDR_SOURCE_DIR = \"/kaggle/input/diabetic-retinopathy-resized-arranged/2/\"\n",
    "TRAINING_MODERATEDR_DIR = \"/kaggle/working/Data/training/2/\"\n",
    "VALIDATION_MODERATEDR_DIR = \"/kaggle/working/Data/validation/2/\"\n",
    "\n",
    "PROLIFERATEDR_SOURCE_DIR = \"/kaggle/input/diabetic-retinopathy-resized-arranged/3/\"\n",
    "TRAINING_PROLIFERATEDR_DIR = \"/kaggle/working/Data/training/3/\"\n",
    "VALIDATION_PROLIFERATEDR_DIR = \"/kaggle/working/Data/validation/3/\"\n",
    "\n",
    "SEVEREDR_SOURCE_DIR = \"/kaggle/input/diabetic-retinopathy-resized-arranged/4/\"\n",
    "TRAINING_SEVEREDR_DIR = \"/kaggle/working/Data/training/4/\"\n",
    "VALIDATION_SEVEREDR_DIR = \"/kaggle/working/Data/validation/4/\"\n",
    "\n",
    "split_size = .85\n",
    "split_data(HEALTHY_SOURCE_DIR, TRAINING_HEALTHY_DIR, VALIDATION_HEALTHY_DIR, split_size)\n",
    "split_data(MILDDR_SOURCE_DIR, TRAINING_MILDDR_DIR, VALIDATION_MILDDR_DIR, split_size)\n",
    "split_data(MODERATEDR_SOURCE_DIR, TRAINING_MODERATEDR_DIR, VALIDATION_MODERATEDR_DIR, split_size)\n",
    "split_data(PROLIFERATEDR_SOURCE_DIR, TRAINING_PROLIFERATEDR_DIR, VALIDATION_PROLIFERATEDR_DIR, split_size)\n",
    "split_data(SEVEREDR_SOURCE_DIR, TRAINING_SEVEREDR_DIR, VALIDATION_SEVEREDR_DIR, split_size)"
   ]
  },
  {
   "cell_type": "code",
   "execution_count": 8,
   "id": "1daab953",
   "metadata": {
    "execution": {
     "iopub.execute_input": "2023-11-26T16:30:44.627719Z",
     "iopub.status.busy": "2023-11-26T16:30:44.627272Z",
     "iopub.status.idle": "2023-11-26T16:30:44.640610Z",
     "shell.execute_reply": "2023-11-26T16:30:44.639260Z"
    },
    "papermill": {
     "duration": 0.031706,
     "end_time": "2023-11-26T16:30:44.643564",
     "exception": false,
     "start_time": "2023-11-26T16:30:44.611858",
     "status": "completed"
    },
    "tags": []
   },
   "outputs": [
    {
     "data": {
      "text/plain": [
       "(1000, 873)"
      ]
     },
     "execution_count": 8,
     "metadata": {},
     "output_type": "execute_result"
    }
   ],
   "source": [
    "TRAINING_DIR = '/kaggle/working/Data/training'\n",
    "VALIDATION_DIR = '/kaggle/working/Data/validation'\n",
    "healthy_imgs = len(os.listdir('/kaggle/working/Data/training/0')) + len(os.listdir('/kaggle/working/Data/validation/0'))\n",
    "dr_imgs = len(os.listdir('/kaggle/working/Data/training/3')) + len(os.listdir('/kaggle/working/Data/validation/3'))\n",
    "healthy_imgs, dr_imgs"
   ]
  },
  {
   "cell_type": "code",
   "execution_count": 9,
   "id": "c8aaa245",
   "metadata": {
    "execution": {
     "iopub.execute_input": "2023-11-26T16:30:44.673307Z",
     "iopub.status.busy": "2023-11-26T16:30:44.672847Z",
     "iopub.status.idle": "2023-11-26T16:30:44.679738Z",
     "shell.execute_reply": "2023-11-26T16:30:44.678605Z"
    },
    "papermill": {
     "duration": 0.024762,
     "end_time": "2023-11-26T16:30:44.682562",
     "exception": false,
     "start_time": "2023-11-26T16:30:44.657800",
     "status": "completed"
    },
    "tags": []
   },
   "outputs": [],
   "source": [
    "def merge_fn(DIR, img_list2, img):\n",
    "    l = len(img_list2)\n",
    "    index = random.randint(0,l-1)\n",
    "    img2 = cv2.imread(DIR + img_list2[index])\n",
    "    img2 = cv2.addWeighted(img, 0.5, img2, 0.5, 1)\n",
    "    return img2"
   ]
  },
  {
   "cell_type": "code",
   "execution_count": 10,
   "id": "490896e6",
   "metadata": {
    "execution": {
     "iopub.execute_input": "2023-11-26T16:30:44.711398Z",
     "iopub.status.busy": "2023-11-26T16:30:44.710960Z",
     "iopub.status.idle": "2023-11-26T16:30:45.830855Z",
     "shell.execute_reply": "2023-11-26T16:30:45.829720Z"
    },
    "papermill": {
     "duration": 1.137975,
     "end_time": "2023-11-26T16:30:45.834145",
     "exception": false,
     "start_time": "2023-11-26T16:30:44.696170",
     "status": "completed"
    },
    "tags": []
   },
   "outputs": [],
   "source": [
    "def oversampling(DIR,n):\n",
    "    img_list = [name for name in os.listdir(DIR)]\n",
    "    lim = len(img_list)\n",
    "    left_img_list = [name for name in img_list if 'left' in name]\n",
    "    right_img_list = [name for name in img_list if 'right' in name]\n",
    "\n",
    "    for i in range(n):\n",
    "        index = random.randint(0,lim-1)\n",
    "        fn = img_list[index]\n",
    "        file_path = DIR + fn\n",
    "\n",
    "        if os.path.getsize(file_path)>0:\n",
    "            img = cv2.imread(file_path)\n",
    "            r = random.randint(0,2)\n",
    "\n",
    "            if r==0:\n",
    "                flip = cv2.flip(img,0)\n",
    "                cv2.imwrite(file_path+str(i)+'.jpeg',flip)\n",
    "            elif r==1:\n",
    "                if 'left' in fn:\n",
    "                    merge = merge_fn(DIR, left_img_list, img)\n",
    "                else:\n",
    "                    merge = merge_fn(DIR, right_img_list, img)\n",
    "                cv2.imwrite(file_path+str(i)+'.jpeg',merge)\n",
    "            else:\n",
    "                cv2.imwrite(file_path+str(i)+'.jpeg',img)\n",
    "\n",
    "# len_healthy = len(os.listdir(TRAINING_HEALTHY_DIR))\n",
    "\n",
    "len_healthy = int(1000*split_size)\n",
    "len_dr = len(os.listdir(TRAINING_MILDDR_DIR))\n",
    "oversampling(TRAINING_MILDDR_DIR, len_healthy - len_dr)\n",
    "\n",
    "len_dr = len(os.listdir(TRAINING_MODERATEDR_DIR))\n",
    "oversampling(TRAINING_MODERATEDR_DIR, len_healthy - len_dr)\n",
    "\n",
    "len_dr = len(os.listdir(TRAINING_PROLIFERATEDR_DIR))\n",
    "oversampling(TRAINING_PROLIFERATEDR_DIR, len_healthy - len_dr)\n",
    "\n",
    "len_dr = len(os.listdir(TRAINING_SEVEREDR_DIR))\n",
    "oversampling(TRAINING_SEVEREDR_DIR, len_healthy - len_dr)"
   ]
  },
  {
   "cell_type": "code",
   "execution_count": 11,
   "id": "9224608c",
   "metadata": {
    "execution": {
     "iopub.execute_input": "2023-11-26T16:30:45.863852Z",
     "iopub.status.busy": "2023-11-26T16:30:45.863390Z",
     "iopub.status.idle": "2023-11-26T16:30:46.058647Z",
     "shell.execute_reply": "2023-11-26T16:30:46.057289Z"
    },
    "papermill": {
     "duration": 0.213756,
     "end_time": "2023-11-26T16:30:46.061928",
     "exception": false,
     "start_time": "2023-11-26T16:30:45.848172",
     "status": "completed"
    },
    "tags": []
   },
   "outputs": [],
   "source": [
    "def validation_oversampler(DIR, n):\n",
    "    img_list = [name for name in os.listdir(DIR)]\n",
    "    lim = len(img_list)\n",
    "    left_img_list = [name for name in img_list if 'left' in name]\n",
    "    right_img_list = [name for name in img_list if 'right' in name]\n",
    "    for i in range(n):\n",
    "        index = random.randint(0,lim-1)\n",
    "        fn = img_list[index]\n",
    "        file_path = DIR + fn\n",
    "\n",
    "        if os.path.getsize(file_path)>0:\n",
    "            img = cv2.imread(file_path)\n",
    "            r = random.randint(0,2)\n",
    "\n",
    "            if r==0:\n",
    "                flip = cv2.flip(img,0)\n",
    "                cv2.imwrite(file_path+str(i)+'.jpeg',flip)\n",
    "            else:\n",
    "                cv2.imwrite(file_path+str(i)+'.jpeg',img)\n",
    "\n",
    "len_healthy = int(1000*(1-split_size))\n",
    "\n",
    "len_dr = len(os.listdir(VALIDATION_MILDDR_DIR))\n",
    "validation_oversampler(VALIDATION_MILDDR_DIR, len_healthy - len_dr)\n",
    "\n",
    "len_dr = len(os.listdir(VALIDATION_MODERATEDR_DIR))\n",
    "oversampling(VALIDATION_MODERATEDR_DIR, len_healthy - len_dr)\n",
    "\n",
    "len_dr = len(os.listdir(VALIDATION_PROLIFERATEDR_DIR))\n",
    "oversampling(VALIDATION_PROLIFERATEDR_DIR, len_healthy - len_dr)\n",
    "\n",
    "len_dr = len(os.listdir(VALIDATION_SEVEREDR_DIR))\n",
    "oversampling(VALIDATION_SEVEREDR_DIR, len_healthy - len_dr)"
   ]
  },
  {
   "cell_type": "code",
   "execution_count": 12,
   "id": "64a54cb1",
   "metadata": {
    "execution": {
     "iopub.execute_input": "2023-11-26T16:30:46.091646Z",
     "iopub.status.busy": "2023-11-26T16:30:46.091172Z",
     "iopub.status.idle": "2023-11-26T16:30:46.100249Z",
     "shell.execute_reply": "2023-11-26T16:30:46.099086Z"
    },
    "papermill": {
     "duration": 0.026446,
     "end_time": "2023-11-26T16:30:46.102748",
     "exception": false,
     "start_time": "2023-11-26T16:30:46.076302",
     "status": "completed"
    },
    "tags": []
   },
   "outputs": [
    {
     "data": {
      "text/plain": [
       "(850, 850)"
      ]
     },
     "execution_count": 12,
     "metadata": {},
     "output_type": "execute_result"
    }
   ],
   "source": [
    "len(os.listdir(TRAINING_MODERATEDR_DIR)), len(os.listdir(TRAINING_SEVEREDR_DIR))"
   ]
  },
  {
   "cell_type": "code",
   "execution_count": 13,
   "id": "17b61896",
   "metadata": {
    "execution": {
     "iopub.execute_input": "2023-11-26T16:30:46.133561Z",
     "iopub.status.busy": "2023-11-26T16:30:46.133074Z",
     "iopub.status.idle": "2023-11-26T16:30:46.139716Z",
     "shell.execute_reply": "2023-11-26T16:30:46.138570Z"
    },
    "papermill": {
     "duration": 0.025461,
     "end_time": "2023-11-26T16:30:46.142515",
     "exception": false,
     "start_time": "2023-11-26T16:30:46.117054",
     "status": "completed"
    },
    "tags": []
   },
   "outputs": [],
   "source": [
    "# def train_val_generators(TRAINING_DIR, VALIDATION_DIR):\n",
    "#     train_datagen = ImageDataGenerator(rescale=1./255,\n",
    "#                                        horizontal_flip=True,\n",
    "#                                       preprocessing_function=preprocessing_fn)\n",
    "\n",
    "#     train_generator = train_datagen.flow_from_directory(directory=TRAINING_DIR,\n",
    "#                                                         batch_size=64,\n",
    "#                                                         class_mode='categorical',\n",
    "#                                                         target_size=(IMG_SIZE, IMG_SIZE))\n",
    "\n",
    "#     validation_datagen = ImageDataGenerator(rescale=1./255,\n",
    "#                                             horizontal_flip=True,\n",
    "#                                             preprocessing_function=preprocessing_fn)\n",
    "#     validation_generator = validation_datagen.flow_from_directory(directory=VALIDATION_DIR,\n",
    "#                                                                 batch_size=32,\n",
    "#                                                                 class_mode='categorical',\n",
    "#                                                                 target_size=(IMG_SIZE, IMG_SIZE))\n",
    "\n",
    "#     return train_generator, validation_generator\n",
    "\n",
    "# train_generator, validation_generator = train_val_generators(TRAINING_DIR, VALIDATION_DIR)"
   ]
  },
  {
   "cell_type": "markdown",
   "id": "c86d2277",
   "metadata": {
    "papermill": {
     "duration": 0.013172,
     "end_time": "2023-11-26T16:30:46.169461",
     "exception": false,
     "start_time": "2023-11-26T16:30:46.156289",
     "status": "completed"
    },
    "tags": []
   },
   "source": [
    "## **Conversion of images to tabular data**"
   ]
  },
  {
   "cell_type": "code",
   "execution_count": 14,
   "id": "9eed98a9",
   "metadata": {
    "execution": {
     "iopub.execute_input": "2023-11-26T16:30:46.199465Z",
     "iopub.status.busy": "2023-11-26T16:30:46.199015Z",
     "iopub.status.idle": "2023-11-26T16:30:46.204857Z",
     "shell.execute_reply": "2023-11-26T16:30:46.203498Z"
    },
    "papermill": {
     "duration": 0.02413,
     "end_time": "2023-11-26T16:30:46.207509",
     "exception": false,
     "start_time": "2023-11-26T16:30:46.183379",
     "status": "completed"
    },
    "tags": []
   },
   "outputs": [],
   "source": [
    "rows_train = []"
   ]
  },
  {
   "cell_type": "code",
   "execution_count": 15,
   "id": "b25ba1e1",
   "metadata": {
    "execution": {
     "iopub.execute_input": "2023-11-26T16:30:46.236798Z",
     "iopub.status.busy": "2023-11-26T16:30:46.236351Z",
     "iopub.status.idle": "2023-11-26T16:30:49.185125Z",
     "shell.execute_reply": "2023-11-26T16:30:49.183496Z"
    },
    "papermill": {
     "duration": 2.967529,
     "end_time": "2023-11-26T16:30:49.188835",
     "exception": false,
     "start_time": "2023-11-26T16:30:46.221306",
     "status": "completed"
    },
    "tags": []
   },
   "outputs": [
    {
     "name": "stdout",
     "output_type": "stream",
     "text": [
      "Downloading data from https://storage.googleapis.com/tensorflow/keras-applications/vgg16/vgg16_weights_tf_dim_ordering_tf_kernels_notop.h5\n",
      "58889256/58889256 [==============================] - 2s 0us/step\n"
     ]
    }
   ],
   "source": [
    "conv = VGG16(\n",
    "    include_top = False,\n",
    "    weights = 'imagenet',\n",
    "    input_shape=(224,224,3)\n",
    ")"
   ]
  },
  {
   "cell_type": "code",
   "execution_count": 16,
   "id": "2ff38b54",
   "metadata": {
    "execution": {
     "iopub.execute_input": "2023-11-26T16:30:49.225943Z",
     "iopub.status.busy": "2023-11-26T16:30:49.225441Z",
     "iopub.status.idle": "2023-11-26T16:30:49.231335Z",
     "shell.execute_reply": "2023-11-26T16:30:49.230303Z"
    },
    "papermill": {
     "duration": 0.027375,
     "end_time": "2023-11-26T16:30:49.233799",
     "exception": false,
     "start_time": "2023-11-26T16:30:49.206424",
     "status": "completed"
    },
    "tags": []
   },
   "outputs": [],
   "source": [
    "def converter(img,rows, c):\n",
    "    img2 = conv(np.expand_dims(img, axis=0))\n",
    "    img3 = np.sum(img2, axis=3)/512\n",
    "    rows.append(list(img3.flatten()) + [c])"
   ]
  },
  {
   "cell_type": "code",
   "execution_count": 17,
   "id": "a05aa76a",
   "metadata": {
    "execution": {
     "iopub.execute_input": "2023-11-26T16:30:49.371501Z",
     "iopub.status.busy": "2023-11-26T16:30:49.370140Z",
     "iopub.status.idle": "2023-11-26T16:30:49.378632Z",
     "shell.execute_reply": "2023-11-26T16:30:49.377325Z"
    },
    "papermill": {
     "duration": 0.129675,
     "end_time": "2023-11-26T16:30:49.381395",
     "exception": false,
     "start_time": "2023-11-26T16:30:49.251720",
     "status": "completed"
    },
    "tags": []
   },
   "outputs": [],
   "source": [
    "def genDataset(direc):\n",
    "    rows = []\n",
    "    for i in class_names:\n",
    "        theDirec = os.path.join(direc, i)        \n",
    "        for j in os.listdir(theDirec):\n",
    "            img = cv2.imread(direc+'/'+i+'/'+j)\n",
    "            img = np.array(img)\n",
    "            converter(img, rows, int(i))\n",
    "    random.shuffle(rows)\n",
    "    rows = np.array(rows)\n",
    "    rows = pd.DataFrame(rows, columns=None, index=np.arange(0,len(rows)))\n",
    "    return rows\n",
    "            \n",
    "    "
   ]
  },
  {
   "cell_type": "code",
   "execution_count": 18,
   "id": "f3e8f183",
   "metadata": {
    "execution": {
     "iopub.execute_input": "2023-11-26T16:30:49.419153Z",
     "iopub.status.busy": "2023-11-26T16:30:49.418352Z",
     "iopub.status.idle": "2023-11-26T16:30:49.559948Z",
     "shell.execute_reply": "2023-11-26T16:30:49.558922Z"
    },
    "papermill": {
     "duration": 0.164028,
     "end_time": "2023-11-26T16:30:49.563079",
     "exception": false,
     "start_time": "2023-11-26T16:30:49.399051",
     "status": "completed"
    },
    "tags": []
   },
   "outputs": [],
   "source": [
    "# df_train = genDataset(TRAINING_DIR)\n",
    "# df_test = genDataset(VALIDATION_DIR)\n",
    "df_train = pd.read_csv('/kaggle/input/drmachinelearning/train_file (1).csv')\n",
    "df_test = pd.read_csv('/kaggle/input/drmachinelearning/test_file (1).csv')"
   ]
  },
  {
   "cell_type": "code",
   "execution_count": 19,
   "id": "7a676823",
   "metadata": {
    "execution": {
     "iopub.execute_input": "2023-11-26T16:30:49.600603Z",
     "iopub.status.busy": "2023-11-26T16:30:49.599864Z",
     "iopub.status.idle": "2023-11-26T16:30:49.623414Z",
     "shell.execute_reply": "2023-11-26T16:30:49.622215Z"
    },
    "papermill": {
     "duration": 0.045659,
     "end_time": "2023-11-26T16:30:49.626348",
     "exception": false,
     "start_time": "2023-11-26T16:30:49.580689",
     "status": "completed"
    },
    "tags": []
   },
   "outputs": [],
   "source": [
    "df_train.drop('Unnamed: 0',axis=1, inplace=True)\n",
    "df_test.drop('Unnamed: 0',axis=1, inplace=True)"
   ]
  },
  {
   "cell_type": "code",
   "execution_count": 20,
   "id": "067a69b8",
   "metadata": {
    "execution": {
     "iopub.execute_input": "2023-11-26T16:30:49.665791Z",
     "iopub.status.busy": "2023-11-26T16:30:49.665001Z",
     "iopub.status.idle": "2023-11-26T16:30:49.698389Z",
     "shell.execute_reply": "2023-11-26T16:30:49.697215Z"
    },
    "papermill": {
     "duration": 0.055537,
     "end_time": "2023-11-26T16:30:49.701131",
     "exception": false,
     "start_time": "2023-11-26T16:30:49.645594",
     "status": "completed"
    },
    "tags": []
   },
   "outputs": [
    {
     "data": {
      "text/html": [
       "<div>\n",
       "<style scoped>\n",
       "    .dataframe tbody tr th:only-of-type {\n",
       "        vertical-align: middle;\n",
       "    }\n",
       "\n",
       "    .dataframe tbody tr th {\n",
       "        vertical-align: top;\n",
       "    }\n",
       "\n",
       "    .dataframe thead th {\n",
       "        text-align: right;\n",
       "    }\n",
       "</style>\n",
       "<table border=\"1\" class=\"dataframe\">\n",
       "  <thead>\n",
       "    <tr style=\"text-align: right;\">\n",
       "      <th></th>\n",
       "      <th>0</th>\n",
       "      <th>1</th>\n",
       "      <th>2</th>\n",
       "      <th>3</th>\n",
       "      <th>4</th>\n",
       "      <th>5</th>\n",
       "      <th>6</th>\n",
       "      <th>7</th>\n",
       "      <th>8</th>\n",
       "      <th>9</th>\n",
       "      <th>...</th>\n",
       "      <th>40</th>\n",
       "      <th>41</th>\n",
       "      <th>42</th>\n",
       "      <th>43</th>\n",
       "      <th>44</th>\n",
       "      <th>45</th>\n",
       "      <th>46</th>\n",
       "      <th>47</th>\n",
       "      <th>48</th>\n",
       "      <th>49</th>\n",
       "    </tr>\n",
       "  </thead>\n",
       "  <tbody>\n",
       "    <tr>\n",
       "      <th>0</th>\n",
       "      <td>2.264182</td>\n",
       "      <td>3.747727</td>\n",
       "      <td>2.313169</td>\n",
       "      <td>2.635653</td>\n",
       "      <td>2.983090</td>\n",
       "      <td>4.386437</td>\n",
       "      <td>2.280173</td>\n",
       "      <td>1.243878</td>\n",
       "      <td>3.585125</td>\n",
       "      <td>2.356004</td>\n",
       "      <td>...</td>\n",
       "      <td>3.963060</td>\n",
       "      <td>2.425950</td>\n",
       "      <td>2.590348</td>\n",
       "      <td>4.594205</td>\n",
       "      <td>4.080608</td>\n",
       "      <td>1.931603</td>\n",
       "      <td>1.834204</td>\n",
       "      <td>5.193177</td>\n",
       "      <td>3.334594</td>\n",
       "      <td>4.0</td>\n",
       "    </tr>\n",
       "    <tr>\n",
       "      <th>1</th>\n",
       "      <td>2.534084</td>\n",
       "      <td>4.617288</td>\n",
       "      <td>5.043473</td>\n",
       "      <td>3.817172</td>\n",
       "      <td>5.181656</td>\n",
       "      <td>6.039627</td>\n",
       "      <td>2.906878</td>\n",
       "      <td>1.568009</td>\n",
       "      <td>4.438841</td>\n",
       "      <td>3.779143</td>\n",
       "      <td>...</td>\n",
       "      <td>6.386855</td>\n",
       "      <td>3.045848</td>\n",
       "      <td>2.754045</td>\n",
       "      <td>3.607669</td>\n",
       "      <td>2.304223</td>\n",
       "      <td>2.233987</td>\n",
       "      <td>4.887716</td>\n",
       "      <td>6.807181</td>\n",
       "      <td>3.360308</td>\n",
       "      <td>1.0</td>\n",
       "    </tr>\n",
       "    <tr>\n",
       "      <th>2</th>\n",
       "      <td>2.117104</td>\n",
       "      <td>4.641054</td>\n",
       "      <td>3.698420</td>\n",
       "      <td>2.423517</td>\n",
       "      <td>3.153149</td>\n",
       "      <td>4.595390</td>\n",
       "      <td>2.546879</td>\n",
       "      <td>1.428409</td>\n",
       "      <td>3.732916</td>\n",
       "      <td>2.770275</td>\n",
       "      <td>...</td>\n",
       "      <td>4.870719</td>\n",
       "      <td>3.060979</td>\n",
       "      <td>3.013932</td>\n",
       "      <td>4.662717</td>\n",
       "      <td>2.397598</td>\n",
       "      <td>2.124692</td>\n",
       "      <td>4.102462</td>\n",
       "      <td>7.140022</td>\n",
       "      <td>3.781180</td>\n",
       "      <td>3.0</td>\n",
       "    </tr>\n",
       "    <tr>\n",
       "      <th>3</th>\n",
       "      <td>1.925990</td>\n",
       "      <td>4.480029</td>\n",
       "      <td>4.325315</td>\n",
       "      <td>4.007621</td>\n",
       "      <td>3.714158</td>\n",
       "      <td>5.097728</td>\n",
       "      <td>2.634568</td>\n",
       "      <td>0.829914</td>\n",
       "      <td>3.334420</td>\n",
       "      <td>4.244580</td>\n",
       "      <td>...</td>\n",
       "      <td>5.825408</td>\n",
       "      <td>2.317929</td>\n",
       "      <td>1.746776</td>\n",
       "      <td>2.866825</td>\n",
       "      <td>3.300934</td>\n",
       "      <td>2.694438</td>\n",
       "      <td>4.072708</td>\n",
       "      <td>4.820017</td>\n",
       "      <td>2.527001</td>\n",
       "      <td>2.0</td>\n",
       "    </tr>\n",
       "    <tr>\n",
       "      <th>4</th>\n",
       "      <td>1.429226</td>\n",
       "      <td>4.610854</td>\n",
       "      <td>4.972523</td>\n",
       "      <td>3.995689</td>\n",
       "      <td>2.509166</td>\n",
       "      <td>2.166258</td>\n",
       "      <td>1.367840</td>\n",
       "      <td>0.996258</td>\n",
       "      <td>4.078973</td>\n",
       "      <td>5.020054</td>\n",
       "      <td>...</td>\n",
       "      <td>2.731688</td>\n",
       "      <td>1.323433</td>\n",
       "      <td>1.748123</td>\n",
       "      <td>2.343807</td>\n",
       "      <td>1.866626</td>\n",
       "      <td>1.718506</td>\n",
       "      <td>1.995262</td>\n",
       "      <td>2.244982</td>\n",
       "      <td>1.490078</td>\n",
       "      <td>2.0</td>\n",
       "    </tr>\n",
       "  </tbody>\n",
       "</table>\n",
       "<p>5 rows × 50 columns</p>\n",
       "</div>"
      ],
      "text/plain": [
       "          0         1         2         3         4         5         6  \\\n",
       "0  2.264182  3.747727  2.313169  2.635653  2.983090  4.386437  2.280173   \n",
       "1  2.534084  4.617288  5.043473  3.817172  5.181656  6.039627  2.906878   \n",
       "2  2.117104  4.641054  3.698420  2.423517  3.153149  4.595390  2.546879   \n",
       "3  1.925990  4.480029  4.325315  4.007621  3.714158  5.097728  2.634568   \n",
       "4  1.429226  4.610854  4.972523  3.995689  2.509166  2.166258  1.367840   \n",
       "\n",
       "          7         8         9  ...        40        41        42        43  \\\n",
       "0  1.243878  3.585125  2.356004  ...  3.963060  2.425950  2.590348  4.594205   \n",
       "1  1.568009  4.438841  3.779143  ...  6.386855  3.045848  2.754045  3.607669   \n",
       "2  1.428409  3.732916  2.770275  ...  4.870719  3.060979  3.013932  4.662717   \n",
       "3  0.829914  3.334420  4.244580  ...  5.825408  2.317929  1.746776  2.866825   \n",
       "4  0.996258  4.078973  5.020054  ...  2.731688  1.323433  1.748123  2.343807   \n",
       "\n",
       "         44        45        46        47        48   49  \n",
       "0  4.080608  1.931603  1.834204  5.193177  3.334594  4.0  \n",
       "1  2.304223  2.233987  4.887716  6.807181  3.360308  1.0  \n",
       "2  2.397598  2.124692  4.102462  7.140022  3.781180  3.0  \n",
       "3  3.300934  2.694438  4.072708  4.820017  2.527001  2.0  \n",
       "4  1.866626  1.718506  1.995262  2.244982  1.490078  2.0  \n",
       "\n",
       "[5 rows x 50 columns]"
      ]
     },
     "execution_count": 20,
     "metadata": {},
     "output_type": "execute_result"
    }
   ],
   "source": [
    "df_train.head()"
   ]
  },
  {
   "cell_type": "code",
   "execution_count": 21,
   "id": "52ee123a",
   "metadata": {
    "execution": {
     "iopub.execute_input": "2023-11-26T16:30:49.738576Z",
     "iopub.status.busy": "2023-11-26T16:30:49.738123Z",
     "iopub.status.idle": "2023-11-26T16:30:50.312845Z",
     "shell.execute_reply": "2023-11-26T16:30:50.311597Z"
    },
    "papermill": {
     "duration": 0.597065,
     "end_time": "2023-11-26T16:30:50.315990",
     "exception": false,
     "start_time": "2023-11-26T16:30:49.718925",
     "status": "completed"
    },
    "tags": []
   },
   "outputs": [],
   "source": [
    "df_train.to_csv('/kaggle/working/train_file.csv')\n",
    "df_test.to_csv('/kaggle/working/test_file.csv')"
   ]
  },
  {
   "cell_type": "code",
   "execution_count": 22,
   "id": "617b7a60",
   "metadata": {
    "execution": {
     "iopub.execute_input": "2023-11-26T16:30:50.361533Z",
     "iopub.status.busy": "2023-11-26T16:30:50.360616Z",
     "iopub.status.idle": "2023-11-26T16:30:50.368686Z",
     "shell.execute_reply": "2023-11-26T16:30:50.367533Z"
    },
    "papermill": {
     "duration": 0.031057,
     "end_time": "2023-11-26T16:30:50.371263",
     "exception": false,
     "start_time": "2023-11-26T16:30:50.340206",
     "status": "completed"
    },
    "tags": []
   },
   "outputs": [
    {
     "data": {
      "text/plain": [
       "((4250, 50), (750, 50))"
      ]
     },
     "execution_count": 22,
     "metadata": {},
     "output_type": "execute_result"
    }
   ],
   "source": [
    "df_train.shape, df_test.shape"
   ]
  },
  {
   "cell_type": "code",
   "execution_count": 23,
   "id": "f8f77be7",
   "metadata": {
    "execution": {
     "iopub.execute_input": "2023-11-26T16:30:50.410527Z",
     "iopub.status.busy": "2023-11-26T16:30:50.410061Z",
     "iopub.status.idle": "2023-11-26T16:30:50.418046Z",
     "shell.execute_reply": "2023-11-26T16:30:50.416738Z"
    },
    "papermill": {
     "duration": 0.031217,
     "end_time": "2023-11-26T16:30:50.420787",
     "exception": false,
     "start_time": "2023-11-26T16:30:50.389570",
     "status": "completed"
    },
    "tags": []
   },
   "outputs": [
    {
     "data": {
      "text/plain": [
       "(1, 1)"
      ]
     },
     "execution_count": 23,
     "metadata": {},
     "output_type": "execute_result"
    }
   ],
   "source": [
    "np.array(1).reshape(-1,1).shape"
   ]
  },
  {
   "cell_type": "code",
   "execution_count": 24,
   "id": "25a0f511",
   "metadata": {
    "execution": {
     "iopub.execute_input": "2023-11-26T16:30:50.459507Z",
     "iopub.status.busy": "2023-11-26T16:30:50.459066Z",
     "iopub.status.idle": "2023-11-26T16:30:50.464098Z",
     "shell.execute_reply": "2023-11-26T16:30:50.462904Z"
    },
    "papermill": {
     "duration": 0.027317,
     "end_time": "2023-11-26T16:30:50.466567",
     "exception": false,
     "start_time": "2023-11-26T16:30:50.439250",
     "status": "completed"
    },
    "tags": []
   },
   "outputs": [],
   "source": [
    "# img = cv2.imread('/kaggle/working/Data/validation/0/10003_left.jpeg')\n",
    "# img3 = conv(np.expand_dims(img, axis=0))\n",
    "# img2 = np.sum(img3, axis=3)/512\n",
    "# # converter(img, rows_train, np.array(int('0')))\n",
    "# n1 = list(img2.flatten()) + [1]\n",
    "# n2 = list(img2.flatten()) + [1]\n",
    "\n",
    "# pd.DataFrame(np.array([n1,n2]))"
   ]
  },
  {
   "cell_type": "code",
   "execution_count": 25,
   "id": "3b5fbb56",
   "metadata": {
    "execution": {
     "iopub.execute_input": "2023-11-26T16:30:50.505764Z",
     "iopub.status.busy": "2023-11-26T16:30:50.505199Z",
     "iopub.status.idle": "2023-11-26T16:30:50.510474Z",
     "shell.execute_reply": "2023-11-26T16:30:50.509279Z"
    },
    "papermill": {
     "duration": 0.028467,
     "end_time": "2023-11-26T16:30:50.513225",
     "exception": false,
     "start_time": "2023-11-26T16:30:50.484758",
     "status": "completed"
    },
    "tags": []
   },
   "outputs": [],
   "source": [
    "# img3.numpy().shape"
   ]
  },
  {
   "cell_type": "markdown",
   "id": "a877bb98",
   "metadata": {
    "papermill": {
     "duration": 0.017911,
     "end_time": "2023-11-26T16:30:50.549427",
     "exception": false,
     "start_time": "2023-11-26T16:30:50.531516",
     "status": "completed"
    },
    "tags": []
   },
   "source": [
    "## **Machine Learning Approach**"
   ]
  },
  {
   "cell_type": "code",
   "execution_count": 26,
   "id": "1d2ad855",
   "metadata": {
    "execution": {
     "iopub.execute_input": "2023-11-26T16:30:50.590370Z",
     "iopub.status.busy": "2023-11-26T16:30:50.589869Z",
     "iopub.status.idle": "2023-11-26T16:30:50.599312Z",
     "shell.execute_reply": "2023-11-26T16:30:50.597826Z"
    },
    "papermill": {
     "duration": 0.033698,
     "end_time": "2023-11-26T16:30:50.602098",
     "exception": false,
     "start_time": "2023-11-26T16:30:50.568400",
     "status": "completed"
    },
    "tags": []
   },
   "outputs": [],
   "source": [
    "X_train = df_train.drop('49', axis=1)\n",
    "y_train = df_train['49']\n",
    "X_test = df_test.drop('49', axis=1)\n",
    "y_test = df_test['49']"
   ]
  },
  {
   "cell_type": "code",
   "execution_count": 27,
   "id": "44447669",
   "metadata": {
    "execution": {
     "iopub.execute_input": "2023-11-26T16:30:50.641066Z",
     "iopub.status.busy": "2023-11-26T16:30:50.640590Z",
     "iopub.status.idle": "2023-11-26T16:30:50.656795Z",
     "shell.execute_reply": "2023-11-26T16:30:50.655581Z"
    },
    "papermill": {
     "duration": 0.038724,
     "end_time": "2023-11-26T16:30:50.659376",
     "exception": false,
     "start_time": "2023-11-26T16:30:50.620652",
     "status": "completed"
    },
    "tags": []
   },
   "outputs": [
    {
     "data": {
      "text/plain": [
       "count    4250.00000\n",
       "mean        2.00000\n",
       "std         1.41438\n",
       "min         0.00000\n",
       "25%         1.00000\n",
       "50%         2.00000\n",
       "75%         3.00000\n",
       "max         4.00000\n",
       "Name: 49, dtype: float64"
      ]
     },
     "execution_count": 27,
     "metadata": {},
     "output_type": "execute_result"
    }
   ],
   "source": [
    "y_train.describe()"
   ]
  },
  {
   "cell_type": "code",
   "execution_count": 28,
   "id": "08e10aed",
   "metadata": {
    "execution": {
     "iopub.execute_input": "2023-11-26T16:30:50.700106Z",
     "iopub.status.busy": "2023-11-26T16:30:50.698896Z",
     "iopub.status.idle": "2023-11-26T16:30:50.706545Z",
     "shell.execute_reply": "2023-11-26T16:30:50.705463Z"
    },
    "papermill": {
     "duration": 0.030515,
     "end_time": "2023-11-26T16:30:50.709238",
     "exception": false,
     "start_time": "2023-11-26T16:30:50.678723",
     "status": "completed"
    },
    "tags": []
   },
   "outputs": [],
   "source": [
    "# Defining functions for grid search\n",
    "def grid_check(grid, X, X_test, y_train, y_test):\n",
    "    grid.fit(X, y_train)\n",
    "    \n",
    "    train_score = grid.score(X, y_train)\n",
    "    print('Train accuracy: ', train_score)\n",
    "    \n",
    "    test_score = grid.score(X_test, y_test)\n",
    "    print('\\nTest accuracy: ', test_score)\n",
    "    \n",
    "    par = grid.best_params_\n",
    "    print('\\nBest parameters\\n',par)\n",
    "    print(\"\\n\")\n",
    "    return grid.best_estimator_"
   ]
  },
  {
   "cell_type": "code",
   "execution_count": 29,
   "id": "146168f8",
   "metadata": {
    "execution": {
     "iopub.execute_input": "2023-11-26T16:30:50.749807Z",
     "iopub.status.busy": "2023-11-26T16:30:50.749346Z",
     "iopub.status.idle": "2023-11-26T16:30:50.755408Z",
     "shell.execute_reply": "2023-11-26T16:30:50.754191Z"
    },
    "papermill": {
     "duration": 0.029847,
     "end_time": "2023-11-26T16:30:50.758137",
     "exception": false,
     "start_time": "2023-11-26T16:30:50.728290",
     "status": "completed"
    },
    "tags": []
   },
   "outputs": [],
   "source": [
    "def ResultFunction(grid_model):\n",
    "    noModel = grid_check(grid_model, X_train, X_test, y_train, y_test)\n",
    "    return noModel"
   ]
  },
  {
   "cell_type": "code",
   "execution_count": 30,
   "id": "bf56c789",
   "metadata": {
    "execution": {
     "iopub.execute_input": "2023-11-26T16:30:50.797371Z",
     "iopub.status.busy": "2023-11-26T16:30:50.796873Z",
     "iopub.status.idle": "2023-11-26T16:30:50.804741Z",
     "shell.execute_reply": "2023-11-26T16:30:50.803304Z"
    },
    "papermill": {
     "duration": 0.030762,
     "end_time": "2023-11-26T16:30:50.807551",
     "exception": false,
     "start_time": "2023-11-26T16:30:50.776789",
     "status": "completed"
    },
    "tags": []
   },
   "outputs": [],
   "source": [
    "# Decision tree\n",
    "modelTree = DecisionTreeClassifier()\n",
    "params_tree = {\n",
    "    'max_depth': [2, 3, 4, 5, 6, 7, 8],\n",
    "    'min_samples_leaf': [1, 2, 3, 4],\n",
    "    'min_samples_split': [2, 3, 4],\n",
    "    'splitter': ['best', 'random'],\n",
    "    'criterion': ['log_loss', 'gini', 'entropy']\n",
    "}\n",
    "grid_tree = GridSearchCV(modelTree, params_tree, cv=5, n_jobs=-1, verbose=1)"
   ]
  },
  {
   "cell_type": "code",
   "execution_count": 31,
   "id": "77ef2142",
   "metadata": {
    "execution": {
     "iopub.execute_input": "2023-11-26T16:30:50.847073Z",
     "iopub.status.busy": "2023-11-26T16:30:50.846519Z",
     "iopub.status.idle": "2023-11-26T16:32:27.802447Z",
     "shell.execute_reply": "2023-11-26T16:32:27.801198Z"
    },
    "papermill": {
     "duration": 96.997867,
     "end_time": "2023-11-26T16:32:27.824394",
     "exception": false,
     "start_time": "2023-11-26T16:30:50.826527",
     "status": "completed"
    },
    "tags": []
   },
   "outputs": [
    {
     "name": "stdout",
     "output_type": "stream",
     "text": [
      "Fitting 5 folds for each of 504 candidates, totalling 2520 fits\n",
      "Train accuracy:  0.3517647058823529\n",
      "\n",
      "Test accuracy:  0.224\n",
      "\n",
      "Best parameters\n",
      " {'criterion': 'log_loss', 'max_depth': 7, 'min_samples_leaf': 4, 'min_samples_split': 2, 'splitter': 'random'}\n",
      "\n",
      "\n"
     ]
    }
   ],
   "source": [
    "l = ResultFunction(grid_tree)"
   ]
  },
  {
   "cell_type": "code",
   "execution_count": 32,
   "id": "4c6b34ca",
   "metadata": {
    "execution": {
     "iopub.execute_input": "2023-11-26T16:32:27.864042Z",
     "iopub.status.busy": "2023-11-26T16:32:27.863593Z",
     "iopub.status.idle": "2023-11-26T16:32:27.869438Z",
     "shell.execute_reply": "2023-11-26T16:32:27.868215Z"
    },
    "papermill": {
     "duration": 0.029221,
     "end_time": "2023-11-26T16:32:27.872223",
     "exception": false,
     "start_time": "2023-11-26T16:32:27.843002",
     "status": "completed"
    },
    "tags": []
   },
   "outputs": [],
   "source": [
    "# modelXGB = XGBClassifier()\n",
    "# params = {\n",
    "#         'booster':['gbtree','dart'],\n",
    "#         'min_child_weight': [1, 5],\n",
    "#         'gamma': [0.5, 1, 2, 5],\n",
    "#         'subsample': [0.6, 0.8, 1.0],\n",
    "#         'colsample_bytree': [0.6, 0.8, 1.0],\n",
    "#         'max_depth': [4, 5]\n",
    "#         }\n",
    "# grid_XGB = GridSearchCV(modelXGB, params, cv=5, n_jobs=-1, verbose=1)"
   ]
  },
  {
   "cell_type": "code",
   "execution_count": 33,
   "id": "ad479d14",
   "metadata": {
    "execution": {
     "iopub.execute_input": "2023-11-26T16:32:27.911450Z",
     "iopub.status.busy": "2023-11-26T16:32:27.910989Z",
     "iopub.status.idle": "2023-11-26T16:32:27.916009Z",
     "shell.execute_reply": "2023-11-26T16:32:27.914894Z"
    },
    "papermill": {
     "duration": 0.027381,
     "end_time": "2023-11-26T16:32:27.918376",
     "exception": false,
     "start_time": "2023-11-26T16:32:27.890995",
     "status": "completed"
    },
    "tags": []
   },
   "outputs": [],
   "source": [
    "# l2 = ResultFunction(grid_XGB)"
   ]
  },
  {
   "cell_type": "code",
   "execution_count": 34,
   "id": "a60900fe",
   "metadata": {
    "execution": {
     "iopub.execute_input": "2023-11-26T16:32:27.958119Z",
     "iopub.status.busy": "2023-11-26T16:32:27.957133Z",
     "iopub.status.idle": "2023-11-26T16:32:36.723425Z",
     "shell.execute_reply": "2023-11-26T16:32:36.722487Z"
    },
    "papermill": {
     "duration": 8.788978,
     "end_time": "2023-11-26T16:32:36.725888",
     "exception": false,
     "start_time": "2023-11-26T16:32:27.936910",
     "status": "completed"
    },
    "tags": []
   },
   "outputs": [
    {
     "data": {
      "text/plain": [
       "0.9618823529411765"
      ]
     },
     "execution_count": 34,
     "metadata": {},
     "output_type": "execute_result"
    }
   ],
   "source": [
    "modelXGB = XGBClassifier(\n",
    "    booster='gbtree',\n",
    "    max_depth=4\n",
    ")\n",
    "modelXGB.fit(X_train, y_train)\n",
    "modelXGB.score(X_train, y_train)"
   ]
  },
  {
   "cell_type": "code",
   "execution_count": 35,
   "id": "a6693123",
   "metadata": {
    "execution": {
     "iopub.execute_input": "2023-11-26T16:32:36.768197Z",
     "iopub.status.busy": "2023-11-26T16:32:36.767707Z",
     "iopub.status.idle": "2023-11-26T16:32:36.784593Z",
     "shell.execute_reply": "2023-11-26T16:32:36.783580Z"
    },
    "papermill": {
     "duration": 0.040514,
     "end_time": "2023-11-26T16:32:36.787504",
     "exception": false,
     "start_time": "2023-11-26T16:32:36.746990",
     "status": "completed"
    },
    "tags": []
   },
   "outputs": [
    {
     "data": {
      "text/plain": [
       "0.33066666666666666"
      ]
     },
     "execution_count": 35,
     "metadata": {},
     "output_type": "execute_result"
    }
   ],
   "source": [
    "modelXGB.score(X_test, y_test)"
   ]
  },
  {
   "cell_type": "code",
   "execution_count": 36,
   "id": "29497635",
   "metadata": {
    "execution": {
     "iopub.execute_input": "2023-11-26T16:32:36.829866Z",
     "iopub.status.busy": "2023-11-26T16:32:36.829365Z",
     "iopub.status.idle": "2023-11-26T16:33:07.879630Z",
     "shell.execute_reply": "2023-11-26T16:33:07.878407Z"
    },
    "papermill": {
     "duration": 31.092708,
     "end_time": "2023-11-26T16:33:07.900977",
     "exception": false,
     "start_time": "2023-11-26T16:32:36.808269",
     "status": "completed"
    },
    "tags": []
   },
   "outputs": [
    {
     "data": {
      "text/plain": [
       "0.9971764705882353"
      ]
     },
     "execution_count": 36,
     "metadata": {},
     "output_type": "execute_result"
    }
   ],
   "source": [
    "cat1 = CatBoostClassifier(verbose=0)\n",
    "cat1.fit(X_train, y_train) \n",
    "cat1.score(X_train, y_train)"
   ]
  },
  {
   "cell_type": "code",
   "execution_count": 37,
   "id": "fa4695c1",
   "metadata": {
    "execution": {
     "iopub.execute_input": "2023-11-26T16:33:07.941628Z",
     "iopub.status.busy": "2023-11-26T16:33:07.940912Z",
     "iopub.status.idle": "2023-11-26T16:33:07.957744Z",
     "shell.execute_reply": "2023-11-26T16:33:07.956554Z"
    },
    "papermill": {
     "duration": 0.040744,
     "end_time": "2023-11-26T16:33:07.960855",
     "exception": false,
     "start_time": "2023-11-26T16:33:07.920111",
     "status": "completed"
    },
    "tags": []
   },
   "outputs": [
    {
     "data": {
      "text/plain": [
       "0.3293333333333333"
      ]
     },
     "execution_count": 37,
     "metadata": {},
     "output_type": "execute_result"
    }
   ],
   "source": [
    "cat1.score(X_test, y_test)"
   ]
  },
  {
   "cell_type": "code",
   "execution_count": null,
   "id": "6ad96578",
   "metadata": {
    "papermill": {
     "duration": 0.019153,
     "end_time": "2023-11-26T16:33:07.999733",
     "exception": false,
     "start_time": "2023-11-26T16:33:07.980580",
     "status": "completed"
    },
    "tags": []
   },
   "outputs": [],
   "source": []
  }
 ],
 "metadata": {
  "kaggle": {
   "accelerator": "none",
   "dataSources": [
    {
     "datasetId": 1091489,
     "sourceId": 1836058,
     "sourceType": "datasetVersion"
    },
    {
     "datasetId": 4051456,
     "sourceId": 7041704,
     "sourceType": "datasetVersion"
    }
   ],
   "dockerImageVersionId": 30558,
   "isGpuEnabled": false,
   "isInternetEnabled": true,
   "language": "python",
   "sourceType": "notebook"
  },
  "kernelspec": {
   "display_name": "Python 3",
   "language": "python",
   "name": "python3"
  },
  "language_info": {
   "codemirror_mode": {
    "name": "ipython",
    "version": 3
   },
   "file_extension": ".py",
   "mimetype": "text/x-python",
   "name": "python",
   "nbconvert_exporter": "python",
   "pygments_lexer": "ipython3",
   "version": "3.10.12"
  },
  "papermill": {
   "default_parameters": {},
   "duration": 248.368502,
   "end_time": "2023-11-26T16:33:10.644049",
   "environment_variables": {},
   "exception": null,
   "input_path": "__notebook__.ipynb",
   "output_path": "__notebook__.ipynb",
   "parameters": {},
   "start_time": "2023-11-26T16:29:02.275547",
   "version": "2.4.0"
  }
 },
 "nbformat": 4,
 "nbformat_minor": 5
}
